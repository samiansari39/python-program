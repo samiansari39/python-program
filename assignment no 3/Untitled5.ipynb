{
 "cells": [
  {
   "cell_type": "code",
   "execution_count": 1,
   "id": "caaa247d",
   "metadata": {},
   "outputs": [
    {
     "name": "stdout",
     "output_type": "stream",
     "text": [
      "question no 1\n",
      "twinkle, twinkle, little star,\n",
      "       how i wonder what you are!\n",
      "                  Up above the world so high,\n",
      "                  Like a diamond in the sky,\n",
      "twinkle, twinkle little star, \n",
      "       How i wonder what you are\n"
     ]
    }
   ],
   "source": [
    "print (\"question no 1\");\n",
    "print(\"twinkle, twinkle, little star,\");\n",
    "print(\"       how i wonder what you are!\");\n",
    "print(\"                  Up above the world so high,\")\n",
    "print(\"                  Like a diamond in the sky,\")\n",
    "print(\"twinkle, twinkle little star, \");\n",
    "print(\"       How i wonder what you are\");\n"
   ]
  },
  {
   "cell_type": "code",
   "execution_count": 5,
   "id": "d0c45c90",
   "metadata": {},
   "outputs": [
    {
     "name": "stdout",
     "output_type": "stream",
     "text": [
      "question no 2\n",
      "3.8.8 (default, Apr 13 2021, 15:08:03) [MSC v.1916 64 bit (AMD64)]\n"
     ]
    }
   ],
   "source": [
    "print(\"question no 2\");\n",
    "import sys\n",
    "print(sys.version);"
   ]
  },
  {
   "cell_type": "code",
   "execution_count": 6,
   "id": "2d253e03",
   "metadata": {},
   "outputs": [
    {
     "name": "stdout",
     "output_type": "stream",
     "text": [
      "question no 3\n",
      "2021-10-22 05:53:13\n"
     ]
    }
   ],
   "source": [
    "print(\"question no 3\");\n",
    "from datetime import datetime\n",
    "now = datetime. now()\n",
    "print (now.strftime(\"%Y-%m-%d %H:%M:%S\"))"
   ]
  },
  {
   "cell_type": "code",
   "execution_count": 7,
   "id": "9b405c0a",
   "metadata": {},
   "outputs": [
    {
     "name": "stdout",
     "output_type": "stream",
     "text": [
      "queswtion no 4\n",
      "Input the radius of the circle : 43\n",
      "The area of the circle with radius 43.0 is: 5808.804816487527\n"
     ]
    }
   ],
   "source": [
    "print(\"queswtion no 4\")\n",
    "from math import pi\n",
    "radius = float(input (\"Input the radius of the circle : \"))\n",
    "print (\"The area of the circle with radius \" + str(radius) + \" is: \" + str(pi * radius**2))"
   ]
  },
  {
   "cell_type": "code",
   "execution_count": 13,
   "id": "cb9fd9ca",
   "metadata": {},
   "outputs": [
    {
     "name": "stdout",
     "output_type": "stream",
     "text": [
      "question no 5\n",
      "Input your First Name : bisma\n",
      "Input your Last Name : shahzad\n",
      "Hello  shahzad bisma\n"
     ]
    }
   ],
   "source": [
    "print(\"question no 5\")\n",
    "firstname = input(\"Input your First Name : \")\n",
    "lastname = input(\"Input your Last Name : \")\n",
    "print (\"Hello  \" + lastname + \" \" + firstname)"
   ]
  },
  {
   "cell_type": "code",
   "execution_count": 14,
   "id": "8d10031f",
   "metadata": {},
   "outputs": [
    {
     "name": "stdout",
     "output_type": "stream",
     "text": [
      "hello\n"
     ]
    }
   ],
   "source": [
    "print(\"hello\");\n"
   ]
  },
  {
   "cell_type": "code",
   "execution_count": 16,
   "id": "8b939093",
   "metadata": {},
   "outputs": [
    {
     "name": "stdout",
     "output_type": "stream",
     "text": [
      "question no 6\n",
      "enter first number: 98\n",
      "enter second number: 63\n",
      "sum: 161\n"
     ]
    }
   ],
   "source": [
    "print(\"question no 6\")\n",
    "a = int(input(\"enter first number: \"))\n",
    "b = int(input(\"enter second number: \"))\n",
    " \n",
    "sum = a + b\n",
    " \n",
    "print(\"sum:\", sum)"
   ]
  },
  {
   "cell_type": "code",
   "execution_count": 1,
   "id": "3f2935d4",
   "metadata": {},
   "outputs": [
    {
     "name": "stdout",
     "output_type": "stream",
     "text": [
      "question no 7\n",
      "Please enter English Marks: 74\n",
      "Please enter Math score: 73\n",
      "Please enter Computer Marks: 62\n",
      "Please enter Physics Marks: 54\n",
      "Please enter Chemistry Marks: 54\n",
      "\n",
      "Total Marks = 317.00\n",
      "Average Marks = 63.40\n",
      "Marks Percentage = 63.40\n"
     ]
    }
   ],
   "source": [
    "print(\"question no 7\")\n",
    "  \n",
    "english = float(input(\"Please enter English Marks: \"))\n",
    "math = float(input(\"Please enter Math score: \"))\n",
    "computers = float(input(\"Please enter Computer Marks: \"))\n",
    "physics = float(input(\"Please enter Physics Marks: \"))\n",
    "chemistry = float(input(\"Please enter Chemistry Marks: \"))\n",
    " \n",
    "total = english + math + computers + physics + chemistry\n",
    "average = total / 5\n",
    "percentage = (total / 500) * 100\n",
    " \n",
    "print(\"\\nTotal Marks = %.2f\"  %total)\n",
    "print(\"Average Marks = %.2f\"  %average)\n",
    "print(\"Marks Percentage = %.2f\"  %percentage)"
   ]
  },
  {
   "cell_type": "code",
   "execution_count": 2,
   "id": "0d59d1d9",
   "metadata": {},
   "outputs": [
    {
     "name": "stdout",
     "output_type": "stream",
     "text": [
      "question no 8\n",
      "Enter a number: 64\n",
      "64 is Even\n"
     ]
    }
   ],
   "source": [
    "print(\"question no 8\")\n",
    "num = int(input(\"Enter a number: \"))\n",
    "if (num % 2) == 0:\n",
    "   print(\"{0} is Even\".format(num))\n",
    "else:\n",
    "   print(\"{0} is Odd\".format(num))"
   ]
  },
  {
   "cell_type": "code",
   "execution_count": 4,
   "id": "997ab391",
   "metadata": {},
   "outputs": [
    {
     "name": "stdout",
     "output_type": "stream",
     "text": [
      "question no 9\n",
      "The list is : [1, 7, 10, 9, 6, 8, 2, 4, 5]\n",
      "Length of list using naive method is : 9\n"
     ]
    }
   ],
   "source": [
    "print(\"question no 9\")\n",
    "test_list = [ 1,7,10, 9, 6, 8, 2, 4, 5 ]\n",
    "\n",
    "print (\"The list is : \" + str(test_list))\n",
    "\n",
    "counter = 0\n",
    "for i in test_list:\n",
    "\n",
    " counter = counter + 1\n",
    "\n",
    "print (\"Length of list using naive method is : \" + str(counter))\n"
   ]
  },
  {
   "cell_type": "code",
   "execution_count": 6,
   "id": "0e79061e",
   "metadata": {},
   "outputs": [
    {
     "name": "stdout",
     "output_type": "stream",
     "text": [
      "question no 10\n",
      "42\n"
     ]
    }
   ],
   "source": [
    "print(\"question no 10\")\n",
    "def sum_list(items):\n",
    "    sum_numbers = 0\n",
    "    for x in items:\n",
    "        sum_numbers += x\n",
    "    return sum_numbers\n",
    "print(sum_list([1,2,-8,16,98,-67]))"
   ]
  },
  {
   "cell_type": "code",
   "execution_count": 7,
   "id": "b520d586",
   "metadata": {},
   "outputs": [
    {
     "name": "stdout",
     "output_type": "stream",
     "text": [
      "question no 11\n",
      "Largest element is: 99\n"
     ]
    }
   ],
   "source": [
    "print(\"question no 11\")\n",
    "list1 = [10, 20, 4, 45, 99]\n",
    "\n",
    "list1.sort()\n",
    "print(\"Largest element is:\", list1[-1])\n"
   ]
  },
  {
   "cell_type": "code",
   "execution_count": 8,
   "id": "e3f9672c",
   "metadata": {},
   "outputs": [
    {
     "name": "stdout",
     "output_type": "stream",
     "text": [
      "question no 12\n",
      " The question is :-\n",
      " Take a list, say for example this one:\n",
      "\n",
      "  a = [1, 1, 2, 3, 5, 8, 13, 21, 34, 55, 89]\n",
      "\n",
      "and write a program that prints out all the elements of the list that are less than 5.\n",
      "           And i will program accordingly.\n",
      "\n",
      "1\n",
      "\n",
      "1\n",
      "\n",
      "2\n",
      "\n",
      "3\n",
      "\n"
     ]
    }
   ],
   "source": [
    "print(\"question no 12\")\n",
    "print (\"\"\" The question is :-\\n Take a list, say for example this one:\\n\n",
    "  a = [1, 1, 2, 3, 5, 8, 13, 21, 34, 55, 89]\\n\n",
    "and write a program that prints out all the elements of the list that are less than 5.\n",
    "           And i will program accordingly.\\n\"\"\")\n",
    "\n",
    "test_list= [1, 1, 2, 3, 5, 8, 13, 21, 34, 55, 89]\n",
    "for element in test_list:\n",
    "    if(int(element) <5):\n",
    "        print(str(element)+\"\\n\")"
   ]
  },
  {
   "cell_type": "code",
   "execution_count": null,
   "id": "3cd037fe",
   "metadata": {},
   "outputs": [],
   "source": []
  }
 ],
 "metadata": {
  "kernelspec": {
   "display_name": "Python 3",
   "language": "python",
   "name": "python3"
  },
  "language_info": {
   "codemirror_mode": {
    "name": "ipython",
    "version": 3
   },
   "file_extension": ".py",
   "mimetype": "text/x-python",
   "name": "python",
   "nbconvert_exporter": "python",
   "pygments_lexer": "ipython3",
   "version": "3.8.8"
  }
 },
 "nbformat": 4,
 "nbformat_minor": 5
}
